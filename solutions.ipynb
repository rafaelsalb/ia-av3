{
 "cells": [
  {
   "cell_type": "code",
   "execution_count": 1,
   "metadata": {},
   "outputs": [],
   "source": [
    "import numpy as np\n",
    "from functions import CostObjective\n",
    "from utils import create_meshgrid"
   ]
  },
  {
   "cell_type": "markdown",
   "metadata": {},
   "source": [
    "# Local Random Search"
   ]
  },
  {
   "cell_type": "code",
   "execution_count": 2,
   "metadata": {},
   "outputs": [],
   "source": [
    "from local_random_search import LocalRandomSearch"
   ]
  },
  {
   "cell_type": "code",
   "execution_count": 3,
   "metadata": {},
   "outputs": [
    {
     "name": "stdout",
     "output_type": "stream",
     "text": [
      "Best solution found:\n",
      "[ 5.24649513e-06 -2.80826280e-05]\n",
      "Best objective value:\n",
      "8.161597092617701e-10\n"
     ]
    }
   ],
   "source": [
    "x = create_meshgrid((-100, 100))\n",
    "f_1 = CostObjective.f_1\n",
    "\n",
    "lrs = LocalRandomSearch(x, max_iter=1_000_000, neighborhood_size=0.1, f=f_1)\n",
    "lrs.optimize()\n",
    "print(\"Best solution found:\")\n",
    "print(lrs.best_x)\n",
    "print(\"Best objective value:\")\n",
    "print(lrs.best_value)"
   ]
  },
  {
   "cell_type": "code",
   "execution_count": 4,
   "metadata": {},
   "outputs": [
    {
     "name": "stdout",
     "output_type": "stream",
     "text": [
      "Best solution found:\n",
      "[1.70000008 5.        ]\n",
      "Best objective value:\n",
      "107274.59994011135\n"
     ]
    }
   ],
   "source": [
    "x = create_meshgrid((-2, 4), (-2, 5))\n",
    "f_2 = CostObjective.f_2\n",
    "lrs = LocalRandomSearch(x, max_iter=2_000_000, neighborhood_size=0.1, f=f_2, minimize=False)\n",
    "lrs.optimize()\n",
    "print(\"Best solution found:\")\n",
    "print(lrs.best_x)\n",
    "print(\"Best objective value:\")\n",
    "print(lrs.best_value)"
   ]
  },
  {
   "cell_type": "code",
   "execution_count": 5,
   "metadata": {},
   "outputs": [
    {
     "name": "stdout",
     "output_type": "stream",
     "text": [
      "Best solution found:\n",
      "[-4.98627942 -4.98609165]\n",
      "Best objective value:\n",
      "12.632269463596135\n"
     ]
    }
   ],
   "source": [
    "x = create_meshgrid((-8, 8))\n",
    "f_3 = CostObjective.f_3\n",
    "lrs = LocalRandomSearch(x, max_iter=1_000_000, neighborhood_size=0.25, f=f_3)\n",
    "lrs.optimize()\n",
    "print(\"Best solution found:\")\n",
    "print(lrs.best_x)\n",
    "print(\"Best objective value:\")\n",
    "print(lrs.best_value)"
   ]
  },
  {
   "cell_type": "code",
   "execution_count": 6,
   "metadata": {},
   "outputs": [
    {
     "name": "stdout",
     "output_type": "stream",
     "text": [
      "Best solution found:\n",
      "[1.98979431 1.99003079]\n",
      "Best objective value:\n",
      "7.959667917151941\n"
     ]
    }
   ],
   "source": [
    "x = create_meshgrid((-5.12, 5.12))\n",
    "f_4 = CostObjective.f_4\n",
    "lrs = LocalRandomSearch(x, max_iter=1_000_000, neighborhood_size=0.25, f=f_4)\n",
    "lrs.optimize()\n",
    "print(\"Best solution found:\")\n",
    "print(lrs.best_x)\n",
    "print(\"Best objective value:\")\n",
    "print(lrs.best_value)"
   ]
  },
  {
   "cell_type": "code",
   "execution_count": 7,
   "metadata": {},
   "outputs": [
    {
     "name": "stdout",
     "output_type": "stream",
     "text": [
      "Best solution found:\n",
      "[-1.55283125e-07  1.00000000e+01]\n",
      "Best objective value:\n",
      "3.0121946291699756e+35\n"
     ]
    }
   ],
   "source": [
    "x = create_meshgrid((-10, 10))\n",
    "f_5 = CostObjective.f_5\n",
    "lrs = LocalRandomSearch(x, max_iter=1_000_000, neighborhood_size=0.25, f=f_5, minimize=False)\n",
    "lrs.optimize()\n",
    "print(\"Best solution found:\")\n",
    "print(lrs.best_x)\n",
    "print(\"Best objective value:\")\n",
    "print(lrs.best_value)"
   ]
  },
  {
   "cell_type": "code",
   "execution_count": 8,
   "metadata": {},
   "outputs": [
    {
     "name": "stdout",
     "output_type": "stream",
     "text": [
      "Best solution found:\n",
      "[2.12809112 2.12772708]\n",
      "Best objective value:\n",
      "5.25296361921227\n"
     ]
    }
   ],
   "source": [
    "x = create_meshgrid((-1, 3))\n",
    "f_6 = CostObjective.f_6\n",
    "lrs = LocalRandomSearch(x, max_iter=1_000_000, neighborhood_size=0.25, f=f_6, minimize=False)\n",
    "lrs.optimize()\n",
    "print(\"Best solution found:\")\n",
    "print(lrs.best_x)\n",
    "print(\"Best objective value:\")\n",
    "print(lrs.best_value)"
   ]
  },
  {
   "cell_type": "code",
   "execution_count": 9,
   "metadata": {},
   "outputs": [
    {
     "name": "stdout",
     "output_type": "stream",
     "text": [
      "Best solution found:\n",
      "[1.97527707 1.57063744]\n",
      "Best objective value:\n",
      "-1.870048006346979\n"
     ]
    }
   ],
   "source": [
    "x = create_meshgrid((0, np.pi))\n",
    "f_7 = CostObjective.f_7\n",
    "lrs = LocalRandomSearch(x, max_iter=1_000_000, neighborhood_size=0.25, f=f_7)\n",
    "lrs.optimize()\n",
    "print(\"Best solution found:\")\n",
    "print(lrs.best_x)\n",
    "print(\"Best objective value:\")\n",
    "print(lrs.best_value)"
   ]
  },
  {
   "cell_type": "code",
   "execution_count": 10,
   "metadata": {},
   "outputs": [
    {
     "name": "stdout",
     "output_type": "stream",
     "text": [
      "Best solution found:\n",
      "[-37.32435991 -60.92563781]\n",
      "Best objective value:\n",
      "-44.602619447913824\n"
     ]
    }
   ],
   "source": [
    "x = create_meshgrid((-200, 20))\n",
    "f_8 = CostObjective.f_8\n",
    "lrs = LocalRandomSearch(x, max_iter=1_000_000, neighborhood_size=0.25, f=f_8)\n",
    "lrs.optimize()\n",
    "print(\"Best solution found:\")\n",
    "print(lrs.best_x)\n",
    "print(\"Best objective value:\")\n",
    "print(lrs.best_value)"
   ]
  }
 ],
 "metadata": {
  "kernelspec": {
   "display_name": ".venv",
   "language": "python",
   "name": "python3"
  },
  "language_info": {
   "codemirror_mode": {
    "name": "ipython",
    "version": 3
   },
   "file_extension": ".py",
   "mimetype": "text/x-python",
   "name": "python",
   "nbconvert_exporter": "python",
   "pygments_lexer": "ipython3",
   "version": "3.12.3"
  }
 },
 "nbformat": 4,
 "nbformat_minor": 2
}
