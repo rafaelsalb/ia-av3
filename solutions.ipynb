{
 "cells": [
  {
   "cell_type": "code",
   "execution_count": null,
   "metadata": {},
   "outputs": [],
   "source": [
    "import matplotlib.pyplot as plt\n",
    "import numpy as np\n",
    "from functions import CostObjective\n",
    "from utils import create_meshgrid, save_figs\n",
    "from pprint import pprint"
   ]
  },
  {
   "cell_type": "markdown",
   "metadata": {},
   "source": [
    "# Local Random Search"
   ]
  },
  {
   "cell_type": "code",
   "execution_count": null,
   "metadata": {},
   "outputs": [],
   "source": [
    "from local_random_search import LocalRandomSearch\n",
    "from global_random_search import GlobalRandomSearch\n",
    "from hill_climb import HillClimb\n",
    "from monte_carlo import MonteCarlo\n",
    "from minimal_sigma import MinimalSigma"
   ]
  },
  {
   "cell_type": "code",
   "execution_count": null,
   "metadata": {},
   "outputs": [],
   "source": [
    "x = create_meshgrid((-100, 100))\n",
    "f_1 = CostObjective.f_1\n",
    "best_x, best_value, solutions, mode, solution_figs, hist_figs = MonteCarlo.run(\n",
    "    X=x,\n",
    "    f=f_1,\n",
    "    max_iter=1_000,\n",
    "    neighborhood_size=0.1,\n",
    "    minimize=True,\n",
    "    limits=np.array(((-100, 100), (-100, 100))),\n",
    "    rounds=500\n",
    ")\n",
    "save_figs(1, solution_figs, hist_figs)"
   ]
  },
  {
   "cell_type": "code",
   "execution_count": null,
   "metadata": {},
   "outputs": [],
   "source": [
    "print(f\"LRS Mode: {mode[0]}\")\n",
    "print(f\"GRS Mode: {mode[1]}\")\n",
    "print(f\"HC Mode: {mode[2]}\")"
   ]
  },
  {
   "cell_type": "code",
   "execution_count": null,
   "metadata": {},
   "outputs": [],
   "source": [
    "opt = 0.0\n",
    "minimal_sigma = MinimalSigma(\n",
    "    X=x,\n",
    "    f=f_1,\n",
    "    minimize=True,\n",
    "    limits=np.array(((-100, 100), (-100, 100))),\n",
    ")\n",
    "results = minimal_sigma.run_all_methods()\n",
    "pprint(results)"
   ]
  },
  {
   "cell_type": "code",
   "execution_count": null,
   "metadata": {},
   "outputs": [],
   "source": [
    "x = create_meshgrid((-2, 5))\n",
    "f = CostObjective.f_2\n",
    "best_x, best_value, solutions, mode, solution_figs, hist_figs = MonteCarlo.run(\n",
    "    X=x,\n",
    "    f=f,\n",
    "    max_iter=1_000,\n",
    "    neighborhood_size=0.1,\n",
    "    minimize=False,\n",
    "    limits=np.array(((-2, 4), (-2, 5))),\n",
    "    rounds=500\n",
    ")\n",
    "save_figs(2, solution_figs, hist_figs)"
   ]
  },
  {
   "cell_type": "code",
   "execution_count": null,
   "metadata": {},
   "outputs": [],
   "source": [
    "opt = 2.0\n",
    "minimal_sigma = MinimalSigma(\n",
    "    X=x,\n",
    "    f=f,\n",
    "    minimize=False,\n",
    "    limits=np.array(((-2, 4), (-2, 5))),\n",
    "    optimal_value=opt,\n",
    ")\n",
    "results = minimal_sigma.run_all_methods()\n",
    "pprint(results)"
   ]
  },
  {
   "cell_type": "code",
   "execution_count": null,
   "metadata": {},
   "outputs": [],
   "source": [
    "x = create_meshgrid((-8, 8))\n",
    "f = CostObjective.f_3\n",
    "best_x, best_value, solutions, mode, solution_figs, hist_figs = MonteCarlo.run(\n",
    "    X=x,\n",
    "    f=f,\n",
    "    max_iter=1_000,\n",
    "    neighborhood_size=0.1,\n",
    "    minimize=True,\n",
    "    limits=np.array(((-8, 8), (-8, 8))),\n",
    "    rounds=500\n",
    ")\n",
    "save_figs(3, solution_figs, hist_figs)"
   ]
  },
  {
   "cell_type": "code",
   "execution_count": null,
   "metadata": {},
   "outputs": [],
   "source": [
    "opt = 0.0\n",
    "minimal_sigma = MinimalSigma(\n",
    "    X=x,\n",
    "    f=f,\n",
    "    minimize=True,\n",
    "    limits=np.array(((-8, 8), (-8, 8))),\n",
    ")\n",
    "results = minimal_sigma.run_all_methods()\n",
    "pprint(results)"
   ]
  },
  {
   "cell_type": "code",
   "execution_count": null,
   "metadata": {},
   "outputs": [],
   "source": [
    "x = create_meshgrid((-5.12, 5.12))\n",
    "f = CostObjective.f_4\n",
    "best_x, best_value, solutions, mode, solution_figs, hist_figs = MonteCarlo.run(\n",
    "    X=x,\n",
    "    f=f,\n",
    "    max_iter=1_000,\n",
    "    neighborhood_size=0.1,\n",
    "    minimize=True,\n",
    "    limits=np.array(((-5.12, 5.12), (-5.12, 5.12))),\n",
    "    rounds=500\n",
    ")\n",
    "save_figs(4, solution_figs, hist_figs)"
   ]
  },
  {
   "cell_type": "code",
   "execution_count": null,
   "metadata": {},
   "outputs": [],
   "source": [
    "opt = 0.0\n",
    "minimal_sigma = MinimalSigma(\n",
    "    X=x,\n",
    "    f=f,\n",
    "    minimize=True,\n",
    "    limits=np.array(((-5.12, 5.12), (-5.12, 5.12))),\n",
    ")\n",
    "results = minimal_sigma.run_all_methods()\n",
    "pprint(results)"
   ]
  },
  {
   "cell_type": "code",
   "execution_count": null,
   "metadata": {},
   "outputs": [],
   "source": [
    "x = create_meshgrid((-10, 10))\n",
    "f = CostObjective.f_5\n",
    "best_x, best_value, solutions, mode, solution_figs, hist_figs = MonteCarlo.run(\n",
    "    X=x,\n",
    "    f=f,\n",
    "    max_iter=1_000,\n",
    "    neighborhood_size=0.1,\n",
    "    minimize=True,\n",
    "    limits=np.array(((-10, 10), (-10, 10))),\n",
    "    rounds=500\n",
    ")\n",
    "save_figs(5, solution_figs, hist_figs)"
   ]
  },
  {
   "cell_type": "code",
   "execution_count": null,
   "metadata": {},
   "outputs": [],
   "source": [
    "opt = 0.0\n",
    "minimal_sigma = MinimalSigma(\n",
    "    X=x,\n",
    "    f=f,\n",
    "    minimize=True,\n",
    "    limits=np.array(((-10, 10), (-10, 10))),\n",
    ")\n",
    "results = minimal_sigma.run_all_methods()\n",
    "pprint(results)"
   ]
  },
  {
   "cell_type": "code",
   "execution_count": null,
   "metadata": {},
   "outputs": [],
   "source": [
    "x = create_meshgrid((-1, 3))\n",
    "f = CostObjective.f_6\n",
    "best_x, best_value, solutions, mode, solution_figs, hist_figs = MonteCarlo.run(\n",
    "    X=x,\n",
    "    f=f,\n",
    "    max_iter=1_000,\n",
    "    neighborhood_size=0.1,\n",
    "    minimize=True,\n",
    "    limits=np.array(((-1, 3), (-1, 3))),\n",
    "    rounds=500\n",
    ")\n",
    "save_figs(6, solution_figs, hist_figs)"
   ]
  },
  {
   "cell_type": "code",
   "execution_count": null,
   "metadata": {},
   "outputs": [],
   "source": [
    "opt = 0.0\n",
    "minimal_sigma = MinimalSigma(\n",
    "    X=x,\n",
    "    f=f,\n",
    "    minimize=True,\n",
    "    limits=np.array(((-1, 3), (-1, 3))),\n",
    ")\n",
    "results = minimal_sigma.run_all_methods()\n",
    "pprint(results)"
   ]
  },
  {
   "cell_type": "code",
   "execution_count": null,
   "metadata": {},
   "outputs": [],
   "source": [
    "x = create_meshgrid((0, np.pi))\n",
    "f = CostObjective.f_7\n",
    "best_x, best_value, solutions, mode, solution_figs, hist_figs = MonteCarlo.run(\n",
    "    X=x,\n",
    "    f=f,\n",
    "    max_iter=1_000,\n",
    "    neighborhood_size=0.1,\n",
    "    minimize=True,\n",
    "    limits=np.array(((0, np.pi), (0, np.pi))),\n",
    "    rounds=500\n",
    ")\n",
    "save_figs(7, solution_figs, hist_figs)"
   ]
  },
  {
   "cell_type": "code",
   "execution_count": null,
   "metadata": {},
   "outputs": [],
   "source": [
    "opt = 0.0\n",
    "minimal_sigma = MinimalSigma(\n",
    "    X=x,\n",
    "    f=f,\n",
    "    minimize=True,\n",
    "    limits=np.array(((0, np.pi), (0, np.pi))),\n",
    ")\n",
    "results = minimal_sigma.run_all_methods()\n",
    "pprint(results)"
   ]
  },
  {
   "cell_type": "code",
   "execution_count": null,
   "metadata": {},
   "outputs": [],
   "source": [
    "x = create_meshgrid((-200, 20))\n",
    "f = CostObjective.f_8\n",
    "best_x, best_value, solutions, mode, solution_figs, hist_figs = MonteCarlo.run(\n",
    "    X=x,\n",
    "    f=f,\n",
    "    max_iter=1_000,\n",
    "    neighborhood_size=0.1,\n",
    "    minimize=True,\n",
    "    limits=np.array(((-200, 20), (-200, 20))),\n",
    "    rounds=500\n",
    ")\n",
    "save_figs(8, solution_figs, hist_figs)"
   ]
  },
  {
   "cell_type": "code",
   "execution_count": null,
   "metadata": {},
   "outputs": [],
   "source": [
    "opt = -211.18\n",
    "minimal_sigma = MinimalSigma(\n",
    "    X=x,\n",
    "    f=f,\n",
    "    minimize=True,\n",
    "    limits=np.array(((-200, 20), (-200, 20))),\n",
    "    optimal_value=opt,\n",
    ")\n",
    "results = minimal_sigma.run_all_methods()\n",
    "pprint(results)"
   ]
  },
  {
   "cell_type": "code",
   "execution_count": null,
   "metadata": {},
   "outputs": [],
   "source": []
  },
  {
   "cell_type": "markdown",
   "metadata": {},
   "source": [
    "# Parte 2"
   ]
  },
  {
   "cell_type": "code",
   "execution_count": null,
   "metadata": {},
   "outputs": [],
   "source": [
    "from queens import QueensSolver, find_optimal_parameters"
   ]
  },
  {
   "cell_type": "markdown",
   "metadata": {},
   "source": [
    "### Encontrando uma solução qualquer (independente de otimização)"
   ]
  },
  {
   "cell_type": "code",
   "execution_count": null,
   "metadata": {},
   "outputs": [],
   "source": [
    "qs = QueensSolver()\n",
    "qs.solve()\n",
    "print(\"Soluções encontradas:\")\n",
    "print(len(qs.solutions))"
   ]
  },
  {
   "cell_type": "markdown",
   "metadata": {},
   "source": [
    "### Encontrando parâmetros que minimizem o custo computacional (iterações médias para encontrar uma solução)"
   ]
  },
  {
   "cell_type": "code",
   "execution_count": null,
   "metadata": {},
   "outputs": [],
   "source": [
    "data = find_optimal_parameters(verbose=True)"
   ]
  },
  {
   "cell_type": "code",
   "execution_count": null,
   "metadata": {},
   "outputs": [],
   "source": [
    "data"
   ]
  },
  {
   "cell_type": "code",
   "execution_count": null,
   "metadata": {},
   "outputs": [],
   "source": [
    "min_index = np.argmin(data[\"mean_iterations\"])\n",
    "print(\"Melhores parâmetros encontrados:\")\n",
    "print(\"Temperatura:\", data[\"temperature\"][min_index])\n",
    "print(\"Taxa de resfriamento:\", data[\"cooling_rate\"][min_index])"
   ]
  },
  {
   "cell_type": "code",
   "execution_count": null,
   "metadata": {},
   "outputs": [],
   "source": [
    "data = np.loadtxt('queens_results.csv', delimiter=',', skiprows=1)\n",
    "# get the index of the minimum mean iterations\n",
    "min_index = np.argmin(data[:, 2])\n",
    "min_temp = data[min_index, 0]\n",
    "min_cooling_rate = data[min_index, 1]\n",
    "min_mean = data[min_index, 2]\n",
    "print(f'Minimum temperature: {min_temp}')\n",
    "print(f'Minimum cooling rate: {min_cooling_rate}')\n",
    "print(f'Minimum mean iterations: {min_mean}')"
   ]
  }
 ],
 "metadata": {
  "kernelspec": {
   "display_name": ".venv",
   "language": "python",
   "name": "python3"
  },
  "language_info": {
   "codemirror_mode": {
    "name": "ipython",
    "version": 3
   },
   "file_extension": ".py",
   "mimetype": "text/x-python",
   "name": "python",
   "nbconvert_exporter": "python",
   "pygments_lexer": "ipython3",
   "version": "3.12.3"
  }
 },
 "nbformat": 4,
 "nbformat_minor": 2
}
